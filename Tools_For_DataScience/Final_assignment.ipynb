{
 "cells": [
  {
   "cell_type": "markdown",
   "metadata": {},
   "source": [
    "Exercise 1 - Create a Jupyter Notebook"
   ]
  },
  {
   "cell_type": "markdown",
   "metadata": {},
   "source": [
    "Exercise 2 - Create a markdown cell with the title of the notebook. "
   ]
  },
  {
   "cell_type": "markdown",
   "metadata": {},
   "source": [
    "# Exercise 2 - Notebook Title\n",
    "# Final Assignment - Tool For Data Science"
   ]
  },
  {
   "cell_type": "markdown",
   "metadata": {},
   "source": [
    "Exercise 3 - Create a markdown cell for an introduction."
   ]
  },
  {
   "cell_type": "markdown",
   "metadata": {},
   "source": [
    "# Exercise 3 - Introduction\n",
    "This notebook contain Final Assignment of course Tools for Data Science by IBM"
   ]
  },
  {
   "cell_type": "markdown",
   "metadata": {},
   "source": [
    "# Exercise 4 - Data Science Languages\n",
    "- Python\n",
    "- R\n",
    "- Julia"
   ]
  },
  {
   "cell_type": "markdown",
   "metadata": {},
   "source": [
    "Exercise 5 - Create a markdown cell to list data science libraries."
   ]
  },
  {
   "cell_type": "markdown",
   "metadata": {},
   "source": [
    "# Exercise 5 - Data Science Libraries\n",
    "- Pandas\n",
    "- NumPy\n",
    "- Matplotlib\n",
    "- Scikit-learn"
   ]
  },
  {
   "cell_type": "markdown",
   "metadata": {},
   "source": [
    "Exercise 6 - Create a markdown cell with a table of Data Science tools."
   ]
  },
  {
   "cell_type": "markdown",
   "metadata": {},
   "source": [
    "# Exercise 6 - Data Science Tools Table\n",
    "\n",
    "| Tool         | Purpose                   |\n",
    "|--------------|---------------------------|\n",
    "| Jupyter      | Interactive coding        |\n",
    "| VS Code      | Integrated development    |\n",
    "| Tableau      | Data visualization        |"
   ]
  },
  {
   "cell_type": "markdown",
   "metadata": {},
   "source": [
    "Exercise 7 - Create a markdown cell introducing arithmetic expression examples."
   ]
  },
  {
   "cell_type": "markdown",
   "metadata": {},
   "source": [
    "# Exercise 7 - Arithmetic Expression Examples\n",
    "# Let's explore some basic arithmetic expressions.\n",
    "\n",
    "# Example 1: Addition\n",
    "result_addition = 5 + 10\n",
    "print(f\"Example 1: 5 + 10 = {result_addition}\")\n",
    "\n",
    "# Example 2: Subtraction\n",
    "result_subtraction = 15 - 7\n",
    "print(f\"Example 2: 15 - 7 = {result_subtraction}\")\n",
    "\n",
    "# Example 3: Multiplication\n",
    "result_multiplication = 3 * 6\n",
    "print(f\"Example 3: 3 * 6 = {result_multiplication}\")\n",
    "\n",
    "# Example 4: Division\n",
    "result_division = 20 / 4\n",
    "print(f\"Example 4: 20 / 4 = {result_division}\")\n",
    "\n",
    "# Example 5: Exponentiation\n",
    "result_exponentiation = 2 ** 3\n",
    "print(f\"Example 5: 2 ** 3 = {result_exponentiation}\")\n"
   ]
  },
  {
   "cell_type": "markdown",
   "metadata": {},
   "source": [
    "Exercise 8 - Create a code cell to multiply and add numbers."
   ]
  },
  {
   "cell_type": "markdown",
   "metadata": {},
   "source": [
    "# Exercise 8 - Multiply and Add Numbers\n",
    "```python\n",
    "result_multiply = 5 * 10\n",
    "result_add = 5 + 10\n",
    "print(f\"Multiplication Result: {result_multiply}, Addition Result: {result_add}\")"
   ]
  },
  {
   "cell_type": "markdown",
   "metadata": {},
   "source": [
    "Exercise 9 - Create a code cell to convert minutes to hours."
   ]
  },
  {
   "cell_type": "markdown",
   "metadata": {},
   "source": [
    "# Exercise 9 - Convert Minutes to Hours\n",
    "```python\n",
    "minutes = 120\n",
    "hours = minutes / 60\n",
    "print(f\"{minutes} minutes is equal to {hours} hours.\")"
   ]
  },
  {
   "cell_type": "markdown",
   "metadata": {},
   "source": [
    "Exercise 10 -Insert a markdown cell to list Objectives."
   ]
  },
  {
   "cell_type": "markdown",
   "metadata": {},
   "source": [
    "# Exercise 10 - Objectives\n",
    "- Demonstrate Markdown and Code Cell usage\n",
    "- Introduce basic data science concepts\n",
    "- Perform arithmetic operations"
   ]
  },
  {
   "cell_type": "markdown",
   "metadata": {},
   "source": [
    "Exercise 11 - Create a markdown cell to indicate the Author’s name."
   ]
  },
  {
   "cell_type": "markdown",
   "metadata": {},
   "source": [
    "# Exercise 11 - Author's Name\n",
    "## Author: Krishna ."
   ]
  },
  {
   "cell_type": "markdown",
   "metadata": {},
   "source": [
    "Exercise 12 - Share your notebook through GitHub"
   ]
  },
  {
   "cell_type": "markdown",
   "metadata": {},
   "source": [
    "# Exercise 12 - GitHub Sharing\n",
    "The notebook is available on GitHub: [Link to GitHub Repo](your_github_link)"
   ]
  },
  {
   "cell_type": "markdown",
   "metadata": {},
   "source": [
    "Exercise 13 - Take a screenshot of the first page of the notebook."
   ]
  },
  {
   "cell_type": "markdown",
   "metadata": {},
   "source": []
  }
 ],
 "metadata": {
  "language_info": {
   "name": "python"
  }
 },
 "nbformat": 4,
 "nbformat_minor": 2
}
